{
  "nbformat": 4,
  "nbformat_minor": 0,
  "metadata": {
    "colab": {
      "private_outputs": true,
      "provenance": []
    },
    "kernelspec": {
      "name": "python3",
      "display_name": "Python 3"
    },
    "language_info": {
      "name": "python"
    },
    "accelerator": "GPU",
    "gpuClass": "standard"
  },
  "cells": [
    {
      "cell_type": "code",
      "source": [
        "#@title 1. **Download Requirements**\n",
        "# https://github.com/camenduru/stable-diffusion-webui-colab\n",
        "\n",
        "#@markdown ## First Time Setup?\n",
        "#@markdown if this is the first time running the ai on this runtime make this true\n",
        "First_Time = False # @param {type:\"boolean\"}\n",
        "\n",
        "if First_Time:\n",
        "  !pip install -qq https://github.com/camenduru/stable-diffusion-webui-colab/releases/download/0.0.15/xformers-0.0.15.dev0+189828c.d20221207-cp38-cp38-linux_x86_64.whl\n",
        "  !git clone https://github.com/camenduru/stable-diffusion-webui\n",
        "  %cd stable-diffusion-webui\n",
        "  !wget https://huggingface.co/hakurei/waifu-diffusion-v1-4/resolve/main/vae/kl-f8-anime2.ckpt -O /content/stable-diffusion-webui/models/VAE/kl-f8-anime2.ckpt\n",
        "\n",
        "#!sed -i -e 's/numpy==1.23.3/numpy==1.21.6/g' requirements_versions.txt\n",
        "#!sed -i -e 's/fairscale==0.4.9/fairscale==0.4.6/g' requirements_versions.txt\n",
        "\n",
        "#@markdown ## Choose Models\n",
        "#@markdown Anime Models\n",
        "waifu_diffusion = False # @param {type:\"boolean\"}\n",
        "Hentai_Diffusion = False # @param {type:\"boolean\"}\n",
        "anythingv3 = False #@param {type:\"boolean\"}\n",
        "kani_anime = False # @param {type:\"boolean\"}\n",
        "elysium = False # @param {type:\"boolean\"}\n",
        "#@markdown Realistic-ish Anime Models\n",
        "animethalt = False # @param {type:\"boolean\"}\n",
        "kani = False # @param {type:\"boolean\"}\n",
        "wlop = False # @param {type:\"boolean\"}\n",
        "#@markdown Realistic Models\n",
        "f222 = False # @param {type:\"boolean\"}\n",
        "instagram = False # @param {type:\"boolean\"}\n",
        "\n",
        "if waifu_diffusion:\n",
        "  !wget https://huggingface.co/hakurei/waifu-diffusion-v1-3/resolve/main/wd-v1-3-float32.ckpt -O /content/stable-diffusion-webui/models/Stable-diffusion/waifuDiffusion_wd-v1-3-float32.ckpt\n",
        "\n",
        "if anythingv3:\n",
        "  !wget https://huggingface.co/Linaqruf/anything-v3.0/resolve/main/Anything-V3.0-pruned.safetensors -O /content/stable-diffusion-webui/models/Stable-diffusion/Anything-V3.0-pruned.safetensors\n",
        "  !wget https://huggingface.co/Linaqruf/anything-v3.0/resolve/main/Anything-V3.0.vae.pt -O /content/stable-diffusion-webui/models/Stable-diffusion/Anything-V3.0-pruned.vae.pt\n",
        "\n",
        "if Hentai_Diffusion:\n",
        "  !wget https://huggingface.co/Deltaadams/HentaiDiffusion/resolve/main/HD-17.ckpt -O /content/stable-diffusion-webui/models/Stable-diffusion/HentaiDiffusion-17.ckpt\n",
        "\n",
        "if animethalt:\n",
        "  !wget https://huggingface.co/Rasgeath/self_made_sauce/resolve/main/AniMethAlt.safetensors -O /content/stable-diffusion-webui/models/Stable-diffusion/AniMethAlt.safetensors\n",
        "\n",
        "if kani:\n",
        "  !wget https://huggingface.co/Rasgeath/self_made_sauce/resolve/main/Kani.safetensors -O /content/stable-diffusion-webui/models/Stable-diffusion/Kani.safetensors\n",
        "\n",
        "if kani_anime:\n",
        "  !wget https://huggingface.co/Rasgeath/self_made_sauce/resolve/main/Kani-anime.ckpt -O /content/stable-diffusion-webui/models/Stable-diffusion/Kani-anime.ckpt\n",
        "\n",
        "if wlop:\n",
        "  !wget https://huggingface.co/FloydianSound/WLOP_Diffusion_v1-5/resolve/main/wlop_artstyle_768_e7.ckpt -O /content/stable-diffusion-webui/models/Stable-diffusion/wlop-diffusion.ckpt\n",
        "\n",
        "if elysium:\n",
        "  !wget https://huggingface.co/hesw23168/SD-Elysium-Model/resolve/main/Elysium_Anime_V3.safetensors -O /content/stable-diffusion-webui/models/Stable-diffusion/Elysium_Anime_V3.safetensors\n",
        "\n",
        "if f222:\n",
        "  !wget https://huggingface.co/acheong08/f222/resolve/main/f222.ckpt -O /content/stable-diffusion-webui/models/Stable-diffusion/f222.ckpt\n",
        "\n",
        "if instagram:\n",
        "  !wget https://huggingface.co/NoCrypt/cafe-instagram-unofficial/resolve/main/cafe-instagram-unofficial-test-epoch-9-140k-images-fp32.ckpt -O /content/stable-diffusion-webui/models/Stable-diffusion/instagram.ckpt\n",
        "\n",
        "\n",
        "# !python launch.py --share --force-enable-xformers"
      ],
      "metadata": {
        "id": "SaAJk33ppFw1"
      },
      "execution_count": null,
      "outputs": []
    },
    {
      "cell_type": "code",
      "source": [
        "#@title 1.2 **Download Extensions**\n",
        "stable_diffusion_webui_images_browse = True  # @param {type: \"boolean\"}\n",
        "a1111_sd_webui_tagcomplete_banbooru_tags = True  # @param {type: \"boolean\"}\n",
        "deforum_for_automatic1111_webui = True  # @param {type: \"boolean\"}\n",
        "\n",
        "if stable_diffusion_webui_images_browse:\n",
        "  !git clone https://github.com/yfszzx/stable-diffusion-webui-images-browser.git extensions/img\n",
        "\n",
        "if a1111_sd_webui_tagcomplete_banbooru_tags:\n",
        "  !git clone https://github.com/DominikDoom/a1111-sd-webui-tagcomplete.git extensions/tag-autocomplete\n",
        "if deforum_for_automatic1111_webui:\n",
        "  !git clone https://github.com/deforum-art/deforum-for-automatic1111-webui /content/stable-diffusion-webui/extensions/deforum-for-automatic1111-webui"
      ],
      "metadata": {
        "id": "YLmHUPYqqC2j"
      },
      "execution_count": null,
      "outputs": []
    },
    {
      "cell_type": "code",
      "source": [
        "#@title 2. **Start the webserver UI**\n",
        "\n",
        "#@markdown ## 1. Optional | Ngrok Tunnel\n",
        "\n",
        "# @markdown Use Ngrok tunneling for more stable communication. To use this, you need to [sign up](https://ngrok.com/) for Ngrok and [get a token](https://dashboard.ngrok.com/get-started/setup).\n",
        "use_ngrok = False  # @param {type: \"boolean\"}\n",
        "ngrok_auth_token = \"\"  # @param {type: \"string\"}\n",
        "ngrok_region = \"us\"  # @param [\"us\", \"eu\", \"au\", \"ap\", \"sa\", \"jp\", \"in\"]\n",
        "\n",
        "#@markdown &nbsp;\n",
        "#@markdown  ## 2. Enable Gradio password authentication (Prevent other users from using the WebUI)\n",
        "\n",
        "use_gradio_auth = False # @param {type:\"boolean\"}\n",
        "gradio_auth_username = \"sus\" # @param {type:\"string\"}\n",
        "gradio_auth_password = \"sus$\" # @param {type:\"string\"}\n",
        "\n",
        "#@markdown &nbsp;\n",
        "#@markdown  ## 3. Config\n",
        "\n",
        "enable_insecure_extension_access  = True # @param {type:\"boolean\"}\n",
        "\n",
        "vars = \"\"\n",
        "\n",
        "if not use_ngrok:\n",
        "    vars += \" --share\"\n",
        "else:\n",
        "    vars += f\" --ngrok {ngrok_auth_token} --ngrok-region {ngrok_region}\"\n",
        "\n",
        "if use_gradio_auth:\n",
        "    vars += f\" --gradio-auth {gradio_auth_username}:{gradio_auth_password}\"\n",
        "\n",
        "if enable_insecure_extension_access:\n",
        "    vars += f\" --enable-insecure-extension-access\"\n",
        "\n",
        "vars += \" --force-enable-xformers\"\n",
        "!python launch.py {vars} "
      ],
      "metadata": {
        "id": "lplUWvW3vOce"
      },
      "execution_count": null,
      "outputs": []
    },
    {
      "cell_type": "markdown",
      "source": [
        " **Tools**\n",
        "\n",
        "[ Deep Danbooru](http://dev.kanotype.net:8003/deepdanbooru/) - Get Danboruu tags matching a picture.\n",
        "\n",
        "[Deep Danbooru Tags](https://replit.com/@KitsuMed/deepDanbooruFormater?embed=true) - A simple tool developed by kitsumed in lua that get all Deep Danbooru Tag and change the format to match a suitable format for a waifu_diffusion input."
      ],
      "metadata": {
        "id": "etJIiSu38dvk"
      }
    }
  ]
}
