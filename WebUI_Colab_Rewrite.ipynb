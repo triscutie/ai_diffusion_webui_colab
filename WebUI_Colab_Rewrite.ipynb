{
  "nbformat": 4,
  "nbformat_minor": 0,
  "metadata": {
    "colab": {
      "private_outputs": true,
      "provenance": [],
      "authorship_tag": "ABX9TyOVKCER07Q4RCK5sonLiyQ1",
      "include_colab_link": true
    },
    "kernelspec": {
      "name": "python3",
      "display_name": "Python 3"
    },
    "language_info": {
      "name": "python"
    },
    "accelerator": "GPU",
    "gpuClass": "standard"
  },
  "cells": [
    {
      "cell_type": "markdown",
      "metadata": {
        "id": "view-in-github",
        "colab_type": "text"
      },
      "source": [
        "<a href=\"https://colab.research.google.com/github/triscutie/ai_diffusion_webui_colab/blob/main/WebUI_Colab_Rewrite.ipynb\" target=\"_parent\"><img src=\"https://colab.research.google.com/assets/colab-badge.svg\" alt=\"Open In Colab\"/></a>"
      ]
    },
    {
      "cell_type": "markdown",
      "source": [
        "<center>\n",
        "<h1>🌸 triscuts WebUI Colab 🌸\n",
        "\n",
        "https://github.com/triscutie/ai_diffusion_webui_colab\n",
        "\n",
        "<img src=\"https://media.discordapp.net/attachments/1027452129356558366/1062890611675516928/00053-1156405644-sketchstyle20masterpiece20best20quality20beautiful20lighting20stunning20ultra-detailed201girl20black20hair20with20pink20streaks20twi.png?width=323&height=323\">\n",
        "\n",
        "<font color= grey>*Thanks for using my thing i guess*"
      ],
      "metadata": {
        "id": "nGAWsodk-RPn"
      }
    },
    {
      "cell_type": "code",
      "execution_count": null,
      "metadata": {
        "cellView": "form",
        "id": "VN5iS8wMzWN5"
      },
      "outputs": [],
      "source": [
        " #@markdown # 1. **Download Requirements**\n",
        " #@markdown Don't touch these checkboxes if you don't know what they mean kthx\n",
        "\n",
        "# All credit to the guys who actually do the hard stuff making and optimizing the web ui\n",
        "# This is just me implementing it into colab for my own use\n",
        "\n",
        "Extensions = True #@param {type:\"boolean\"}\n",
        "WD_VAE = True #@param {type:\"boolean\"}\n",
        "\n",
        "#Main\n",
        "!pip install -qq https://github.com/camenduru/stable-diffusion-webui-colab/releases/download/0.0.15/xformers-0.0.15.dev0+189828c.d20221207-cp38-cp38-linux_x86_64.whl\n",
        "!git clone https://github.com/camenduru/stable-diffusion-webui\n",
        "%cd stable-diffusion-webui\n",
        "\n",
        "#Extensions\n",
        "if Extensions:\n",
        "  !git clone https://github.com/yfszzx/stable-diffusion-webui-images-browser.git extensions/img\n",
        "  !git clone https://github.com/DominikDoom/a1111-sd-webui-tagcomplete.git extensions/tag-autocomplete\n",
        "  !git clone https://github.com/deforum-art/deforum-for-automatic1111-webui /content/stable-diffusion-webui/extensions/deforum-for-automatic1111-webui\n",
        "  !git clone https://github.com/kohya-ss/sd-webui-additional-networks.git /content/stable-diffusion-webui/extensions/sd-webui-additional-networks\n",
        "#VAE\n",
        "if WD_VAE:\n",
        "  !wget https://huggingface.co/hakurei/waifu-diffusion-v1-4/resolve/main/vae/kl-f8-anime2.ckpt -O /content/stable-diffusion-webui/models/VAE/kl-f8-anime2.ckpt"
      ]
    },
    {
      "cell_type": "code",
      "source": [
        "#@markdown # 2. **Download Models**\n",
        "#@markdown This is literally the 2nd most important part\n",
        "Model = \"AbyssOrangeMix2\" #@param [\"None\", \"AbyssOrangeMix2\",\"BloodOrangeMix\",\"AnythingV3\",\"Stable Diffusion 1.5\",\"Stable Diffusion 2.1\",\"F222\",\"Kokoro\"]\n",
        "\n",
        "model_dict = {\n",
        "    \"AbyssOrangeMix2\":\"https://huggingface.co/WarriorMama777/OrangeMixs/resolve/main/Models/AbyssOrangeMix2/AbyssOrangeMix2_nsfw.safetensors\",\n",
        "    \"BloodOrangeMix\":\"https://huggingface.co/WarriorMama777/OrangeMixs/resolve/main/BloodOrangeMix_half.ckpt\",\n",
        "    \"AnythingV3\":\"https://huggingface.co/Linaqruf/anything-v3.0/resolve/main/Anything-V3.0-pruned.safetensors\",\n",
        "    \"Stable Diffusion 1.5\":\"https://huggingface.co/runwayml/stable-diffusion-v1-5/resolve/main/v1-5-pruned-emaonly.ckpt\",\n",
        "    \"Stable Diffusion 2.1\":\"https://huggingface.co/stabilityai/stable-diffusion-2-1/resolve/main/v2-1_768-ema-pruned.safetensors\",\n",
        "    \"F222\":\"https://huggingface.co/acheong08/f222/resolve/main/f222.ckpt\",\n",
        "    \"Kokoro\":\"https://huggingface.co/triscute/1il1il1illi1li1li1/resolve/main/Kokoro.ckpt\",\n",
        "}\n",
        "\n",
        "Custom_Model_Link = \"\" #@param {type:\"string\"}\n",
        "\n",
        "if not Custom_Model_Link == \"\":\n",
        "  !gdown {Custom_Model_Link} -O /content/stable-diffusion-webui/models/Stable-diffusion/\n",
        "if not Model == \"None\" and not Model == \"Stable Diffusion 2.1\":\n",
        "  !gdown {model_dict[Model]} -O /content/stable-diffusion-webui/models/Stable-diffusion/\n",
        "\n",
        "# SD 2.1\n",
        "if Model == \"Stable Diffusion 2.1\":\n",
        "  !gdown {model_dict[Model]} -O /content/stable-diffusion-webui/models/Stable-diffusion/\n",
        "  !gdown https://raw.githubusercontent.com/Stability-AI/stablediffusion/main/configs/stable-diffusion/v2-inference-v.yaml -O /content/stable-diffusion-webui/models/Stable-diffusion/v2-1_768-ema-pruned.yaml"
      ],
      "metadata": {
        "cellView": "form",
        "id": "56IlBI8-0cVE"
      },
      "execution_count": null,
      "outputs": []
    },
    {
      "cell_type": "code",
      "source": [
        "#@markdown # 3. **Start WebUI**\n",
        "#@markdown [Please use ngrok otherwise the ui is near unusable](https://dashboard.ngrok.com/get-started/your-authtoken)\n",
        "\n",
        "ngrok = True  # @param {type: \"boolean\"}\n",
        "ngrok_authtoken = \"\"  # @param {type: \"string\"}\n",
        "ngrok_region = \"us\"  # @param [\"us\", \"eu\", \"au\", \"ap\", \"sa\", \"jp\", \"in\"]\n",
        "\n",
        "#@markdown \n",
        "\n",
        "#@markdown Set a username and password for the webui\n",
        "username = \"sus\" # @param {type:\"string\"}\n",
        "password = \"sussy\" # @param {type:\"string\"}\n",
        "\n",
        "vars = f\" --xformers --gradio-auth {username}:{password}\"\n",
        "\n",
        "if not ngrok:\n",
        "    vars += \" --share\"\n",
        "else:\n",
        "    vars += f\" --ngrok {ngrok_authtoken} --ngrok-region {ngrok_region}\"\n",
        "\n",
        "\n",
        "%cd /content/stable-diffusion-webui/\n",
        "!python launch.py {vars} "
      ],
      "metadata": {
        "id": "AZ31AUx57wNb",
        "cellView": "form"
      },
      "execution_count": null,
      "outputs": []
    },
    {
      "cell_type": "markdown",
      "source": [
        "**Update Log**\n",
        "---\n",
        "**[1/20/2023]**\n",
        "+ Made this entirely new colab because the old one was super skidded"
      ],
      "metadata": {
        "id": "mp6aEcTNCHcR"
      }
    }
  ]
}