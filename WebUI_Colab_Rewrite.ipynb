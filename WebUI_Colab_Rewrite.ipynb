{
  "nbformat": 4,
  "nbformat_minor": 0,
  "metadata": {
    "colab": {
      "private_outputs": true,
      "provenance": [],
      "include_colab_link": true
    },
    "kernelspec": {
      "name": "python3",
      "display_name": "Python 3"
    },
    "language_info": {
      "name": "python"
    },
    "accelerator": "GPU",
    "gpuClass": "standard"
  },
  "cells": [
    {
      "cell_type": "markdown",
      "metadata": {
        "id": "view-in-github",
        "colab_type": "text"
      },
      "source": [
        "<a href=\"https://colab.research.google.com/github/triscutie/ai_diffusion_webui_colab/blob/main/WebUI_Colab_Rewrite.ipynb\" target=\"_parent\"><img src=\"https://colab.research.google.com/assets/colab-badge.svg\" alt=\"Open In Colab\"/></a>"
      ]
    },
    {
      "cell_type": "markdown",
      "source": [
        "<center>\n",
        "<h1>🌸 triscuts WebUI Colab 🌸\n",
        "\n",
        "https://github.com/triscutie/ai_diffusion_webui_colab\n",
        "\n",
        "Other Stuff:\n",
        "\n",
        "[🛌 ComfyUI Colab 🛌](https://colab.research.google.com/github/triscutie/ai_diffusion_webui_colab/blob/main/ComfyUI.ipynb)\n",
        "\n",
        "[🚫 Old WebUI Colab (prob broken) 🚫](https://colab.research.google.com/github/triscutie/ai_diffusion_webui_colab/blob/main/customAI_diffusion_webui_colab.ipynb)\n",
        "\n",
        "<img src=\"https://media.discordapp.net/attachments/1027452129356558366/1062890611675516928/00053-1156405644-sketchstyle20masterpiece20best20quality20beautiful20lighting20stunning20ultra-detailed201girl20black20hair20with20pink20streaks20twi.png?width=323&height=323\">\n",
        "\n",
        "<font color= grey>*Thanks for using my thing i guess*"
      ],
      "metadata": {
        "id": "nGAWsodk-RPn"
      }
    },
    {
      "cell_type": "code",
      "execution_count": null,
      "metadata": {
        "id": "VN5iS8wMzWN5",
        "cellView": "form"
      },
      "outputs": [],
      "source": [
        " #@markdown # 1. ⚠️ **Download Requirements**\n",
        " #@markdown Don't touch these checkboxes if you don't know what they mean kthx\n",
        "\n",
        "# All credit to the guys who actually do the hard stuff making and optimizing the web ui\n",
        "# This is just me implementing it into colab for my own use\n",
        "\n",
        "WD_VAE = True #@param {type:\"boolean\"}\n",
        "SD_VAE_ft_mse = False #@param {type:\"boolean\"}\n",
        "OrangeMix_VAE = False #@param {type:\"boolean\"}\n",
        "\n",
        "#Main\n",
        "!apt -q install liblz4-tool aria2\n",
        "!pip install -qq https://github.com/camenduru/stable-diffusion-webui-colab/releases/download/0.0.15/xformers-0.0.15.dev0+189828c.d20221207-cp38-cp38-linux_x86_64.whl\n",
        "!git clone https://github.com/camenduru/stable-diffusion-webui\n",
        "%cd /content/stable-diffusion-webui/\n",
        "\n",
        "#Config\n",
        "!wget -q -O styles.csv https://raw.githubusercontent.com/triscutie/ai_diffusion_webui_colab/main/test/styles.csv\n",
        "!wget -q -O config.json https://raw.githubusercontent.com/triscutie/ai_diffusion_webui_colab/main/test/config.json\n",
        "!wget -q -O ui-config.json https://raw.githubusercontent.com/triscutie/ai_diffusion_webui_colab/main/test/ui-config.json\n",
        "\n",
        "# idc what you say these are needed\n",
        "!git clone https://github.com/DominikDoom/a1111-sd-webui-tagcomplete.git extensions/tag-autocomplete\n",
        "!git clone https://github.com/kohya-ss/sd-webui-additional-networks.git /content/stable-diffusion-webui/extensions/sd-webui-additional-networks\n",
        "\n",
        "#VAE (idk any more vaes lmfao)\n",
        "if OrangeMix_VAE:\n",
        "  !wget https://huggingface.co/WarriorMama777/OrangeMixs/resolve/main/VAEs/orangemix.vae.pt -O /content/stable-diffusion-webui/models/VAE/orangemix.vae.ckpt\n",
        "if WD_VAE:\n",
        "  !wget https://huggingface.co/hakurei/waifu-diffusion-v1-4/resolve/main/vae/kl-f8-anime2.ckpt -O /content/stable-diffusion-webui/models/VAE/kl-f8-anime2.ckpt\n",
        "if SD_VAE_ft_mse:\n",
        "  !wget https://huggingface.co/stabilityai/sd-vae-ft-mse-original/resolve/main/vae-ft-mse-840000-ema-pruned.safetensors -O /content/stable-diffusion-webui/models/VAE/vae-ft-mse-840000-ema-pruned.safetensors\n",
        "\n",
        "# god bless the people smarter than me and with more time with me \n",
        "!sed -i \"s@os.path.splitext(checkpoint_.*@os.path.splitext(checkpoint_file); map_location='cuda'@\" /content/stable-diffusion-webui/modules/sd_models.py\n",
        "!sed -i 's@ui.create_ui().*@ui.create_ui();shared.demo.queue(concurrency_count=999999,status_update_rate=0.1)@' /content/stable-diffusion-webui/webui.py\n",
        "# vram merge\n",
        "!sed -i \"s@'cpu'@'cuda'@\" /content/stable-diffusion-webui/modules/extras.py\n",
        "\n",
        "%cd /content/stable-diffusion-webui/"
      ]
    },
    {
      "cell_type": "code",
      "source": [
        " #@markdown # 1.1 📒 Extensions\n",
        " #@markdown Don't worry about this if you are new and don't know what this all means\n",
        "sdweb_merge_block_weighted_gui = True #@param {type:\"boolean\"}\n",
        "sd_webui_model_converter = True #@param {type:\"boolean\"}\n",
        "sd_webui_supermerger = True #@param {type:\"boolean\"}\n",
        "\n",
        "# merge block weighted\n",
        "if sdweb_merge_block_weighted_gui:\n",
        "  !git clone https://github.com/bbc-mc/sdweb-merge-block-weighted-gui.git /content/stable-diffusion-webui/extensions/sdweb-merge-block-weighted-gui\n",
        "\n",
        "# model converter\n",
        "if sd_webui_model_converter:\n",
        "  !git clone https://github.com/Akegarasu/sd-webui-model-converter.git /content/stable-diffusion-webui/extensions/sd-webui-model-converter\n",
        "\n",
        "# super merger\n",
        "if sd_webui_supermerger:\n",
        "  !git clone https://github.com/hako-mikan/sd-webui-supermerger.git /content/stable-diffusion-webui/extensions/sd-webui-supermerger\n",
        "\n"
      ],
      "metadata": {
        "cellView": "form",
        "id": "M9iCUXD0NQol"
      },
      "execution_count": null,
      "outputs": []
    },
    {
      "cell_type": "code",
      "source": [
        "#@markdown # 2. 📦 **Download Models**\n",
        "#@markdown This is literally the 2nd most important part\n",
        "Model = \"AOM3.safetensors\" #@param [\"None\", \"AOM3.safetensors\", \"AOM2nsfw.safetensors\",\"BloodNightOrangeMix.ckpt\",\"anythingv3.ckpt\",\"v1-5-pruned-emaonly.ckpt\",\"v2-1_768-ema-pruned.safetensors\",\"f222.ckpt\",\"Kokoro.ckpt\",\"pastelmix-better-vae.safetensors\",\"anything-v4.5-pruned.safetensors\",\"AnyPastel-nsfw-fp16.safetensors\",\"OpenNiji.safetensors\",\"hitokomoru-v2.safetensors\",\"grapefruit.safetensors\",\"ChilloutMix-Ni-pruned-fp16.safetensors\"]\n",
        "\n",
        "model_dict = {\n",
        "    \"AOM3.safetensors\":\"https://huggingface.co/WarriorMama777/OrangeMixs/resolve/main/Models/AbyssOrangeMix3/AOM3.safetensors\"\n",
        "    \"AOM2nsfw.safetensors\":\"https://huggingface.co/WarriorMama777/OrangeMixs/resolve/main/Models/AbyssOrangeMix2/AbyssOrangeMix2_nsfw.safetensors\",\n",
        "    \"BloodNightOrangeMix.ckptx\":\"https://huggingface.co/WarriorMama777/OrangeMixs/resolve/main/Models/BloodOrangeMix/BloodNightOrangeMix.ckpt\",\n",
        "    \"anythingv3.ckpt\":\"https://huggingface.co/NoCrypt/Anything-v3-0/resolve/main/anything.ckpt\",\n",
        "    \"v1-5-pruned-emaonly.ckpt\":\"https://huggingface.co/runwayml/stable-diffusion-v1-5/resolve/main/v1-5-pruned-emaonly.ckpt\",\n",
        "    \"v2-1_768-ema-pruned.safetensors\":\"https://huggingface.co/stabilityai/stable-diffusion-2-1/resolve/main/v2-1_768-ema-pruned.safetensors\",\n",
        "    \"f222.ckpt\":\"https://huggingface.co/acheong08/f222/resolve/main/f222.ckpt\",\n",
        "    \"Kokoro.ckpt\":\"https://huggingface.co/triscute/1il1il1illi1li1li1/resolve/main/Kokoro.ckpt\",\n",
        "    \"pastelmix-better-vae.safetensors\":\"https://huggingface.co/andite/pastel-mix/resolve/main/pastelmix-better-vae.safetensors\",\n",
        "    \"anything-v4.5-pruned.safetensors\":\"https://huggingface.co/andite/anything-v4.0/resolve/main/anything-v4.5-pruned.safetensors\",\n",
        "    \"AnyPastel-nsfw-fp16.safetensors\":\"https://huggingface.co/m4gnett/any-pastel/resolve/main/AnyPastel-nsfw-fp16.safetensors\",\n",
        "    \"OpenNiji.safetensors\":\"https://huggingface.co/Korakoe/OpenNiji/resolve/main/OpenNiji.safetensors\",\n",
        "    \"hitokomoru-v2.safetensors\":\"https://huggingface.co/Linaqruf/hitokomoru-diffusion-v2/resolve/main/hitokomoru-v2.safetensors\",\n",
        "    \n",
        "    # https://civitai.com/models/2583/grapefruit-hentai-model\n",
        "    \"grapefruit.safetensors\":\"https://civitai.com/api/download/models/9000\",\n",
        "\n",
        "    # https://civitai.com/models/6424/chilloutmix\n",
        "    \"ChilloutMix-Ni-pruned-fp16.safetensors\":\"https://civitai.com/api/download/models/9474\"\n",
        "}\n",
        "Custom_Model_Link = \"\" #@param {type:\"string\"}\n",
        "Custom_Model_Name = \"\" #@param {type:\"string\"}\n",
        "Custom_Model_Type = \"safetensors\" #@param [\"safetensors\",\"ckpt\"]\n",
        "cmf = Custom_Model_Name + \".\" + Custom_Model_Type\n",
        "\n",
        "\n",
        "if not Custom_Model_Link == \"\":\n",
        "  !aria2c --console-log-level=error --summary-interval=10 -c -x 16 -k 1M -s 16 -d /content/stable-diffusion-webui/models/Stable-diffusion/ -o {cmf} {Custom_Model_Link}\n",
        "if not Model == \"None\" and not Model == \"v2-1_768-ema-pruned.safetensors\" and not Model == \"hitokomoru-v2.safetensors\":\n",
        "  !aria2c --console-log-level=error --summary-interval=10 -c -x 16 -k 1M -s 16 -d /content/stable-diffusion-webui/models/Stable-diffusion/ -o {Model} {model_dict[Model]}\n",
        "\n",
        "# Linaqruf/hitokomoru-diffusion-v2\n",
        "if Model == \"hitokomoru-v2.safetensors\":\n",
        "  !aria2c --console-log-level=error --summary-interval=10 -c -x 16 -k 1M -s 16 -d /content/stable-diffusion-webui/models/Stable-diffusion/ -o {Model} {model_dict[Model]}\n",
        "  !gdown https://huggingface.co/Linaqruf/hitokomoru-diffusion-v2/raw/main/hitokomoru-v2.yaml -O /content/stable-diffusion-webui/models/Stable-diffusion/hitokomoru-v2.yaml\n",
        "\n",
        "# SD 2.1\n",
        "if Model == \"v2-1_768-ema-pruned.safetensors\":\n",
        "  !aria2c --console-log-level=error --summary-interval=10 -c -x 16 -k 1M -s 16 -d /content/stable-diffusion-webui/models/Stable-diffusion/ -o {Model} {model_dict[Model]}\n",
        "  !gdown https://raw.githubusercontent.com/Stability-AI/stablediffusion/main/configs/stable-diffusion/v2-inference-v.yaml -O /content/stable-diffusion-webui/models/Stable-diffusion/v2-1_768-ema-pruned.yaml"
      ],
      "metadata": {
        "cellView": "form",
        "id": "56IlBI8-0cVE"
      },
      "execution_count": null,
      "outputs": []
    },
    {
      "cell_type": "code",
      "source": [
        "#@markdown # 3. ✨ **Start WebUI**\n",
        "#@markdown [❗️ Please use ngrok otherwise the ui is near unusable ❗️](https://dashboard.ngrok.com/get-started/your-authtoken)\n",
        "\n",
        "ngrok = True  # @param {type: \"boolean\"}\n",
        "ngrok_authtoken = \"\"  # @param {type: \"string\"}\n",
        "ngrok_region = \"us\"  # @param [\"us\", \"eu\", \"au\", \"ap\", \"sa\", \"jp\", \"in\"]\n",
        "\n",
        "#@markdown \n",
        "\n",
        "#@markdown 🏴 Set a username and password for the webui 🏴\n",
        "username = \"sus\" # @param {type:\"string\"}\n",
        "password = \"sussy\" # @param {type:\"string\"}\n",
        "\n",
        "#@markdown \n",
        "\n",
        "#@markdown ⚠️ Don't touch if you dont know what it means ⚠️\n",
        "api = False # @param {type:\"boolean\"}\n",
        "\n",
        "vars = f\" --no-hashing --lowram --no-half-vae --xformers --gradio-auth {username}:{password}\"\n",
        "\n",
        "if not ngrok:\n",
        "    vars += \" --share\"\n",
        "else:\n",
        "    vars += f\" --ngrok {ngrok_authtoken} --ngrok-region {ngrok_region}\"\n",
        "if api:\n",
        "  vars += \" --api\"\n",
        "\n",
        "\n",
        "%cd /content/stable-diffusion-webui/\n",
        "\n",
        "!python launch.py {vars} "
      ],
      "metadata": {
        "id": "AZ31AUx57wNb",
        "cellView": "form"
      },
      "execution_count": null,
      "outputs": []
    },
    {
      "cell_type": "markdown",
      "source": [
        "**Update Log**\n",
        "---\n",
        "**[2/15/2024]**\n",
        "+ few models\n",
        "+ prettied everything up\n",
        "+ extensions seperated\n",
        "+ api toggle\n",
        "\n",
        "**[2/12/2023]**\n",
        "+ super fast model downloads B)\n",
        "\n",
        "**[2/8/2023]**\n",
        "+ added new models + added nerd shit back too\n",
        "\n",
        "**[1/20/2023]**\n",
        "+ Made this entirely new colab because the old one was super skidded"
      ],
      "metadata": {
        "id": "mp6aEcTNCHcR"
      }
    },
    {
      "cell_type": "markdown",
      "source": [
        "# nerd shit"
      ],
      "metadata": {
        "id": "ADrpoerabnZM"
      }
    },
    {
      "cell_type": "code",
      "source": [
        "#@markdown ## lora quickload\n",
        "link = \"https://huggingface.co/triscute/1il1il1illi1li1li1/resolve/main/EmilyLoRA.safetensors\" # @param {type:\"string\"}\n",
        "!gdown {link} -O /content/stable-diffusion-webui/extensions/sd-webui-additional-networks/models/lora/\n",
        "\n"
      ],
      "metadata": {
        "id": "L7CKGp8dbqaU"
      },
      "execution_count": null,
      "outputs": []
    },
    {
      "cell_type": "code",
      "source": [
        "#@markdown ## mount drive\n",
        "from google.colab import drive\n",
        "drive.mount('/content/drive')\n",
        "!cd /content/drive/MyDrive/\n",
        "!mkdir /content/drive/MyDrive/triscut-webui\n",
        "!mkdir /content/drive/MyDrive/triscut-webui/embeds"
      ],
      "metadata": {
        "id": "m2YKXqspb7-I"
      },
      "execution_count": null,
      "outputs": []
    },
    {
      "cell_type": "code",
      "source": [
        "#@markdown ## upload file\n",
        "file_ = \"/content/stable-diffusion-webui/models/Stable-diffusion/\" #@param {type:\"string\"}\n",
        "import shutil\n",
        "shutil.copy(file_,\"/content/drive/MyDrive/triscut-webui\")"
      ],
      "metadata": {
        "id": "NZipunWJb8wP"
      },
      "execution_count": null,
      "outputs": []
    }
  ]
}