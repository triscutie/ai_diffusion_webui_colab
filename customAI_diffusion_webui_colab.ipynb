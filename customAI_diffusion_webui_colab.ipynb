{
  "nbformat": 4,
  "nbformat_minor": 0,
  "metadata": {
    "colab": {
      "private_outputs": true,
      "provenance": [],
      "include_colab_link": true
    },
    "kernelspec": {
      "name": "python3",
      "display_name": "Python 3"
    },
    "language_info": {
      "name": "python"
    },
    "accelerator": "GPU",
    "gpuClass": "standard"
  },
  "cells": [
    {
      "cell_type": "markdown",
      "metadata": {
        "id": "view-in-github",
        "colab_type": "text"
      },
      "source": [
        "<a href=\"https://colab.research.google.com/github/triscutie/ai_diffusion_webui_colab/blob/main/customAI_diffusion_webui_colab.ipynb\" target=\"_parent\"><img src=\"https://colab.research.google.com/assets/colab-badge.svg\" alt=\"Open In Colab\"/></a>"
      ]
    },
    {
      "cell_type": "markdown",
      "source": [
        "A list of all the models and some images of what they can accomplish\n",
        "https://docs.google.com/document/d/1GLM4pmKKyBuHLxVU1PD_HDg60zSpPLz47g0ooJaPIWc/edit?usp=sharing"
      ],
      "metadata": {
        "id": "77GPHMOsuKTs"
      }
    },
    {
      "cell_type": "markdown",
      "source": [
        "basic text guide\n",
        "\n",
        "1. download requirements\n",
        "2. pick and download your models\n",
        "3. download plugins\n",
        "4. run web ui\n",
        "5. once the web ui loads and you get the link go to the settings inside the web ui\n",
        "6. find \"SD VAE\" and set it to kl-f8-anime2.ckpt (if you dont your images may come out colorless/weird)\n",
        "7. scroll up and press apply\n",
        "8. have fun"
      ],
      "metadata": {
        "id": "SQq1T-pFcKbZ"
      }
    },
    {
      "cell_type": "code",
      "source": [
        "#@title 1. **Download Requirements**\n",
        "# https://github.com/camenduru/stable-diffusion-webui-colab\n",
        "!pip install -qq https://github.com/camenduru/stable-diffusion-webui-colab/releases/download/0.0.15/xformers-0.0.15.dev0+189828c.d20221207-cp38-cp38-linux_x86_64.whl\n",
        "!git clone https://github.com/camenduru/stable-diffusion-webui\n",
        "%cd stable-diffusion-webui\n",
        "!wget https://huggingface.co/hakurei/waifu-diffusion-v1-4/resolve/main/vae/kl-f8-anime2.ckpt -O /content/stable-diffusion-webui/models/VAE/kl-f8-anime2.ckpt\n",
        "\n",
        "#!sed -i -e 's/numpy==1.23.3/numpy==1.21.6/g' requirements_versions.txt\n",
        "#!sed -i -e 's/fairscale==0.4.9/fairscale==0.4.6/g' requirements_versions.txt"
      ],
      "metadata": {
        "id": "aQhsYB5od0aN",
        "cellView": "form"
      },
      "execution_count": null,
      "outputs": []
    },
    {
      "cell_type": "code",
      "source": [
        "#@title 1.1 **Download Models**\n",
        "# https://github.com/camenduru/stable-diffusion-webui-colab\n",
        "#@markdown ## Choose Models\n",
        "#@markdown **Anime Models**\n",
        "Waifu_Diffusion = False # @param {type:\"boolean\"}\n",
        "Hentai_Diffusion = False # @param {type:\"boolean\"}\n",
        "Anythingv3 = False #@param {type:\"boolean\"}\n",
        "Kani_Anime = False # @param {type:\"boolean\"}\n",
        "Elysium = False # @param {type:\"boolean\"}\n",
        "BloodOrangeMix = False # @param {type:\"boolean\"}\n",
        "#@markdown **Realistic-ish Anime Models**\n",
        "AniMeth = False # @param {type:\"boolean\"}\n",
        "Kani = False # @param {type:\"boolean\"}\n",
        "wlop = False # @param {type:\"boolean\"}\n",
        "#@markdown **Realistic Models**\n",
        "f222 = False # @param {type:\"boolean\"}\n",
        "Instagram = False # @param {type:\"boolean\"}\n",
        "#@markdown **triscutes models**\n",
        "Kokoro = False # @param {type:\"boolean\"}\n",
        "#@markdown **test models**\n",
        "#gape = False # @param {type:\"boolean\"}\n",
        "ElderOrangeFuta = False # @param {type:\"boolean\"}\n",
        "\n",
        "if Waifu_Diffusion:\n",
        "  !wget https://huggingface.co/hakurei/waifu-diffusion-v1-3/resolve/main/wd-v1-3-float32.ckpt -O /content/stable-diffusion-webui/models/Stable-diffusion/waifuDiffusion_wd-v1-3-float32.ckpt\n",
        "\n",
        "if Anythingv3:\n",
        "  !wget https://huggingface.co/Linaqruf/anything-v3.0/resolve/main/Anything-V3.0-pruned.safetensors -O /content/stable-diffusion-webui/models/Stable-diffusion/Anything-V3.0-pruned.safetensors\n",
        "  !wget https://huggingface.co/Linaqruf/anything-v3.0/resolve/main/Anything-V3.0.vae.pt -O /content/stable-diffusion-webui/models/Stable-diffusion/Anything-V3.0-pruned.vae.pt\n",
        "\n",
        "if Hentai_Diffusion:\n",
        "  !wget https://huggingface.co/Deltaadams/HentaiDiffusion/resolve/main/HD-17.ckpt -O /content/stable-diffusion-webui/models/Stable-diffusion/HentaiDiffusion-17.ckpt\n",
        "\n",
        "if AniMeth:\n",
        "  !wget https://huggingface.co/Rasgeath/self_made_sauce/resolve/main/AniMeth.safetensors -O /content/stable-diffusion-webui/models/Stable-diffusion/AniMeth.safetensors\n",
        "\n",
        "if Kani:\n",
        "  !wget https://huggingface.co/Rasgeath/self_made_sauce/resolve/main/Kani.safetensors -O /content/stable-diffusion-webui/models/Stable-diffusion/Kani.safetensors\n",
        "\n",
        "if Kani_Anime:\n",
        "  !wget https://huggingface.co/Rasgeath/self_made_sauce/resolve/main/Kani-anime.ckpt -O /content/stable-diffusion-webui/models/Stable-diffusion/Kani-anime.ckpt\n",
        "\n",
        "if wlop:\n",
        "  !wget https://huggingface.co/FloydianSound/WLOP_Diffusion_v1-5/resolve/main/wlop_artstyle_768_e7.ckpt -O /content/stable-diffusion-webui/models/Stable-diffusion/wlop-diffusion.ckpt\n",
        "\n",
        "if Elysium:\n",
        "  !wget https://huggingface.co/hesw23168/SD-Elysium-Model/resolve/main/Elysium_Anime_V3.safetensors -O /content/stable-diffusion-webui/models/Stable-diffusion/Elysium_Anime_V3.safetensors\n",
        "\n",
        "if BloodOrangeMix:\n",
        "  !wget https://huggingface.co/WarriorMama777/OrangeMixs/resolve/main/BloodOrangeMix_half.ckpt -O /content/stable-diffusion-webui/models/Stable-diffusion/BloodOrangeMix_half.ckpt\n",
        "\n",
        "if f222:\n",
        "  !wget https://huggingface.co/acheong08/f222/resolve/main/f222.ckpt -O /content/stable-diffusion-webui/models/Stable-diffusion/f222.ckpt\n",
        "\n",
        "if Instagram:\n",
        "  !wget https://huggingface.co/NoCrypt/cafe-instagram-unofficial/resolve/main/cafe-instagram-unofficial-test-epoch-9-140k-images-fp32.ckpt -O /content/stable-diffusion-webui/models/Stable-diffusion/instagram.ckpt\n",
        "\n",
        "if Kokoro:\n",
        "  !wget https://huggingface.co/triscute/1il1il1illi1li1li1/resolve/main/Kokoro.ckpt -O /content/stable-diffusion-webui/models/Stable-diffusion/Kokoro.ckpt\n",
        "\n",
        "# random models\n",
        "\n",
        "#if gape:\n",
        "#  !wget https://sdexchange.net/download/gape60.ckpt -O /content/stable-diffusion-webui/models/Stable-diffusion/gape.ckpt\n",
        "\n",
        "if ElderOrangeFuta:\n",
        "  !wget https://huggingface.co/Tsuchan/ElderOrangeFutanari/resolve/main/ElderOrangeFutaFinale.ckpt -O /content/stable-diffusion-webui/models/Stable-diffusion/ElderOrangeFuta.ckpt\n",
        "\n",
        "custom_model = False # @param {type:\"boolean\"}\n",
        "model = \"https://huggingface.co/andite/models/resolve/main/nai-wd.ckpt\" # @param {type:\"string\"}\n",
        "if custom_model:\n",
        "  !gdown {model} -O /content/stable-diffusion-webui/models/Stable-diffusion/\n",
        "\n",
        "# !python launch.py --share --force-enable-xformers"
      ],
      "metadata": {
        "id": "SaAJk33ppFw1",
        "cellView": "form"
      },
      "execution_count": null,
      "outputs": []
    },
    {
      "cell_type": "code",
      "source": [
        "#@title 1.2 **Download Extensions**\n",
        "stable_diffusion_webui_images_browse = True  # @param {type: \"boolean\"}\n",
        "a1111_sd_webui_tagcomplete_banbooru_tags = True  # @param {type: \"boolean\"}\n",
        "deforum_for_automatic1111_webui = True  # @param {type: \"boolean\"}\n",
        "\n",
        "if stable_diffusion_webui_images_browse:\n",
        "  !git clone https://github.com/yfszzx/stable-diffusion-webui-images-browser.git extensions/img\n",
        "\n",
        "if a1111_sd_webui_tagcomplete_banbooru_tags:\n",
        "  !git clone https://github.com/DominikDoom/a1111-sd-webui-tagcomplete.git extensions/tag-autocomplete\n",
        "if deforum_for_automatic1111_webui:\n",
        "  !git clone https://github.com/deforum-art/deforum-for-automatic1111-webui /content/stable-diffusion-webui/extensions/deforum-for-automatic1111-webui"
      ],
      "metadata": {
        "id": "YLmHUPYqqC2j",
        "cellView": "form"
      },
      "execution_count": null,
      "outputs": []
    },
    {
      "cell_type": "code",
      "source": [
        "#@title 2. **Start the webserver UI**\n",
        "\n",
        "#@markdown ## 1. Optional | Ngrok Tunnel\n",
        "\n",
        "# @markdown Use Ngrok tunneling for more stable communication. To use this, you need to [sign up](https://ngrok.com/) for Ngrok and [get a token](https://dashboard.ngrok.com/get-started/setup).\n",
        "use_ngrok = False  # @param {type: \"boolean\"}\n",
        "ngrok_auth_token = \"\"  # @param {type: \"string\"}\n",
        "ngrok_region = \"us\"  # @param [\"us\", \"eu\", \"au\", \"ap\", \"sa\", \"jp\", \"in\"]\n",
        "\n",
        "#@markdown &nbsp;\n",
        "#@markdown  ## 2. Enable Gradio password authentication (Prevent other users from using the WebUI)\n",
        "\n",
        "use_gradio_auth = False # @param {type:\"boolean\"}\n",
        "gradio_auth_username = \"sus\" # @param {type:\"string\"}\n",
        "gradio_auth_password = \"sussy\" # @param {type:\"string\"}\n",
        "\n",
        "#@markdown &nbsp;\n",
        "#@markdown  ## 3. PaintHua Outpainting\n",
        "# @markdown PaintHua is a open source tool on [github](https://github.com/BlinkDL/Hua) for easier outpainting. This colab version will use their website and not the local version as it require less setup.\n",
        "#@markdown ##### If enabled: Turn off \"Apply color correction to img2img results\" in settings before usage.\n",
        "enable_paintHua = False # @param {type:\"boolean\"}\n",
        "#@markdown [Open PaintHua.com](https://www.painthua.com/)\n",
        "\n",
        "#@markdown &nbsp;\n",
        "#@markdown  ## 4. Others Config\n",
        "\n",
        "enable_insecure_extension_access  = False # @param {type:\"boolean\"}\n",
        "xformers_RECOMMENDED  = True\n",
        "\n",
        "vars = \"\"\n",
        "# Main setup\n",
        "if not use_ngrok:\n",
        "    vars += \" --share\"\n",
        "else:\n",
        "    vars += f\" --ngrok {ngrok_auth_token} --ngrok-region {ngrok_region}\"\n",
        "\n",
        "if use_gradio_auth:\n",
        "    vars += f\" --gradio-auth {gradio_auth_username}:{gradio_auth_password}\"\n",
        "#PaintHua Setup\n",
        "if enable_paintHua:\n",
        "    vars += f\" --api --port 7860 --cors-allow-origins=https://www.painthua.com --listen\"\n",
        "# Others Config Setup\n",
        "if enable_insecure_extension_access:\n",
        "    vars += \" --enable-insecure-extension-access\"\n",
        "\n",
        "if xformers_RECOMMENDED:\n",
        "    vars += \" --xformers\"\n",
        "\n",
        "!python launch.py {vars} "
      ],
      "metadata": {
        "id": "lplUWvW3vOce",
        "cellView": "form"
      },
      "execution_count": null,
      "outputs": []
    },
    {
      "cell_type": "markdown",
      "source": [
        " **Tools**\n",
        "\n",
        "[ Deep Danbooru](http://dev.kanotype.net:8003/deepdanbooru/) - Get Danboruu tags matching a picture.\n",
        "\n",
        "[Deep Danbooru Tags](https://replit.com/@KitsuMed/deepDanbooruFormater?embed=true) - A simple tool developed by kitsumed in lua that get all Deep Danbooru Tag and change the format to match a suitable format for a waifu_diffusion input."
      ],
      "metadata": {
        "id": "etJIiSu38dvk"
      }
    },
    {
      "cell_type": "markdown",
      "source": [
        "# ignore stuff down here unless smartie !11!!1!!"
      ],
      "metadata": {
        "id": "R5WMLfMca5M7"
      }
    },
    {
      "cell_type": "code",
      "source": [
        "#@markdown ## mount drive\n",
        "from google.colab import drive\n",
        "drive.mount('/content/drive')\n",
        "!cd /content/drive/MyDrive/\n",
        "!mkdir /content/drive/MyDrive/triscut-webui\n",
        "!mkdir /content/drive/MyDrive/triscut-webui/embeds"
      ],
      "metadata": {
        "cellView": "form",
        "id": "fJWftlDba-JR"
      },
      "execution_count": null,
      "outputs": []
    },
    {
      "cell_type": "code",
      "source": [
        "#@markdown ## upload file\n",
        "file_ = \"/content/stable-diffusion-webui/models/Stable-diffusion/\" #@param {type:\"string\"}\n",
        "import shutil\n",
        "shutil.copy(file_,\"/content/drive/MyDrive/triscut-webui\")"
      ],
      "metadata": {
        "cellView": "form",
        "id": "v7m6F-0jbNT9"
      },
      "execution_count": null,
      "outputs": []
    },
    {
      "cell_type": "code",
      "source": [
        "#@markdown ## load embeds from googol drive\n",
        "#@markdown embeds are stored in /MyDrive/triscut-webui/embeds/\n",
        "shutil.copy(\"/content/drive/MyDrive/triscut-webui/embeds/\", \"/content/stable-diffusion-webui/embeddings\")"
      ],
      "metadata": {
        "cellView": "form",
        "id": "2xfO-L-ArTbF"
      },
      "execution_count": null,
      "outputs": []
    },
    {
      "cell_type": "markdown",
      "source": [
        "**Update Log**\n",
        "---\n",
        "**[12/30/2022]**\n",
        "+ Moved to github\n",
        "+ Made the model selection prettier\n",
        "+ PaintHua Outpainting added by Mé#6911 (354946527602671627)\n",
        "+ Added embed loading from google cloud (untested but should work in theory, will remove this message after i test lol)\n",
        "\n",
        "**[12/29/2022]**\n",
        "+ upload file to drive stuff\n",
        "+ the basic text guide lol\n",
        "\n",
        "\\\n",
        "\n",
        "\\\n",
        "\n",
        "\\\n",
        "\n",
        "\\\n",
        "\n",
        "\\\n",
        "\n",
        "\\\n",
        "\n",
        "\\\n",
        "\n",
        "<font color= grey>*Thanks for using my thing i guess*\n",
        "\n",
        "<image src=https://media.discordapp.net/attachments/1027452129356558366/1058252369202249768/00146-3190822276-_Emily_20illustration20piercing20girl20close20up20hair20cross20piercing20twintails20makeup20earrings20bandaid20bra20breasts.png width=450>"
      ],
      "metadata": {
        "id": "K5N2n9YAcsnb"
      }
    }
  ]
}