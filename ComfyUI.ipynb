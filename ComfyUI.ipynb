{
  "cells": [
    {
      "cell_type": "markdown",
      "metadata": {
        "id": "view-in-github",
        "colab_type": "text"
      },
      "source": [
        "<a href=\"https://colab.research.google.com/github/triscutie/ai_diffusion_webui_colab/blob/main/ComfyUI.ipynb\" target=\"_parent\"><img src=\"https://colab.research.google.com/assets/colab-badge.svg\" alt=\"Open In Colab\"/></a>"
      ]
    },
    {
      "cell_type": "markdown",
      "source": [
        "100% credit here -> -> -> https://github.com/comfyanonymous/ComfyUI"
      ],
      "metadata": {
        "id": "bZQ19GYf54dg"
      }
    },
    {
      "cell_type": "code",
      "execution_count": null,
      "metadata": {
        "id": "vFTEUuaHwQxA",
        "cellView": "form"
      },
      "outputs": [],
      "source": [
        "#@title # 1. **Download Requirements**\n",
        "!git clone https://github.com/comfyanonymous/ComfyUI\n",
        "pip install torch torchvision torchaudio --extra-index-url https://download.pytorch.org/whl/cu117\n",
        "%cd ComfyUI\n",
        "!pip install -r requirements.txt"
      ]
    },
    {
      "cell_type": "code",
      "execution_count": null,
      "metadata": {
        "id": "Rr5-YdIwxSaf",
        "cellView": "form"
      },
      "outputs": [],
      "source": [
        "#@title # 2. **Download Models**\n",
        "Model = \"AbyssOrangeMix2\" #@param [\"None\", \"AbyssOrangeMix2\",\"BloodOrangeMix\",\"AnythingV3\",\"Stable Diffusion 1.5\",\"Stable Diffusion 2.1\",\"F222\",\"Kokoro\",\"PastelMix | VAE Included\",\"AnythingV4.5 (not clickbait)\",\"AnyPastel\",\"OpenNiji\",\"Linaqruf/hitokomoru-diffusion-v2\"]\n",
        "\n",
        "model_dict = {\n",
        "    \"AbyssOrangeMix2\":\"https://huggingface.co/WarriorMama777/OrangeMixs/resolve/main/Models/AbyssOrangeMix2/AbyssOrangeMix2_nsfw.safetensors\",\n",
        "    \"BloodOrangeMix\":\"https://huggingface.co/WarriorMama777/OrangeMixs/resolve/main/Models/BloodOrangeMix/BloodNightOrangeMix.ckpt\",\n",
        "    \"AnythingV3\":\"https://huggingface.co/NoCrypt/Anything-v3-0/resolve/main/anything.ckpt\",\n",
        "    \"Stable Diffusion 1.5\":\"https://huggingface.co/runwayml/stable-diffusion-v1-5/resolve/main/v1-5-pruned-emaonly.ckpt\",\n",
        "    \"Stable Diffusion 2.1\":\"https://huggingface.co/stabilityai/stable-diffusion-2-1/resolve/main/v2-1_768-ema-pruned.safetensors\",\n",
        "    \"F222\":\"https://huggingface.co/acheong08/f222/resolve/main/f222.ckpt\",\n",
        "    \"Kokoro\":\"https://huggingface.co/triscute/1il1il1illi1li1li1/resolve/main/Kokoro.ckpt\",\n",
        "    \"PastelMix | VAE Included\":\"https://huggingface.co/andite/pastel-mix/resolve/main/pastelmix-better-vae.safetensors\",\n",
        "    \"AnythingV4.5 (not clickbait)\":\"https://huggingface.co/andite/anything-v4.0/resolve/main/anything-v4.5-pruned.safetensors\",\n",
        "    \"AnyPastel\":\"https://huggingface.co/m4gnett/any-pastel/resolve/main/AnyPastel-nsfw-fp16.safetensors\",\n",
        "    \"OpenNiji\":\"https://huggingface.co/Korakoe/OpenNiji/resolve/main/OpenNiji.safetensors\",\n",
        "    \"Linaqruf/hitokomoru-diffusion-v2\":\"https://huggingface.co/Linaqruf/hitokomoru-diffusion-v2/resolve/main/hitokomoru-v2.safetensors\"\n",
        "}\n",
        "\n",
        "!gdown {model_dict[Model]} -O /content/ComfyUI/models/checkpoints/"
      ]
    },
    {
      "cell_type": "code",
      "source": [
        "#@title # 2.1. **Download VAE**\n",
        "# quite honestly i dont know what other vaes are out there lmfao\n",
        "!wget https://huggingface.co/hakurei/waifu-diffusion-v1-4/resolve/main/vae/kl-f8-anime2.ckpt -O /content/stable-diffusion-webui/models/VAE/kl-f8-anime2.ckpt"
      ],
      "metadata": {
        "cellView": "form",
        "id": "JjEgjrjq43B0"
      },
      "execution_count": null,
      "outputs": []
    },
    {
      "cell_type": "code",
      "execution_count": null,
      "metadata": {
        "id": "LVaopqR6xwks",
        "cellView": "form"
      },
      "outputs": [],
      "source": [
        "#@title # 3. **File Explorer**\n",
        "#@markdown this is where you will see the output :3\n",
        "\n",
        "#reminding myself to make my own file explorer or something \n",
        "#(i doubt ill get to it but if i do this colab will have something unique :3)\n",
        "\n",
        "# stole this from comfys colab because i dont understand colab fully yet o>\n",
        "from google.colab import output\n",
        "output.serve_kernel_port_as_window(8000)\n",
        "get_ipython().system_raw('cd output && python3 -m http.server 8000 &') "
      ]
    },
    {
      "cell_type": "code",
      "execution_count": null,
      "metadata": {
        "id": "18SaFBCFxCA5",
        "cellView": "form"
      },
      "outputs": [],
      "source": [
        "#@title # 4. **Run ComfyUI**\n",
        "\n",
        "# stole this from comfys colab because i dont understand colab fully yet o>\n",
        "import threading\n",
        "import time\n",
        "import socket\n",
        "def iframe_thread(port):\n",
        "  while True:\n",
        "      time.sleep(0.5)\n",
        "      sock = socket.socket(socket.AF_INET, socket.SOCK_STREAM)\n",
        "      result = sock.connect_ex(('127.0.0.1', port))\n",
        "      if result == 0:\n",
        "        break\n",
        "      sock.close()\n",
        "  from google.colab import output\n",
        "  print(\"Link:\")\n",
        "  output.serve_kernel_port_as_window(port)\n",
        "\n",
        "threading.Thread(target=iframe_thread, daemon=True, args=(8188,)).start()\n",
        "\n",
        "!python main.py"
      ]
    }
  ],
  "metadata": {
    "accelerator": "GPU",
    "colab": {
      "provenance": [],
      "authorship_tag": "ABX9TyNJY3ym4scmdggFGGNc4/kX",
      "include_colab_link": true
    },
    "gpuClass": "standard",
    "kernelspec": {
      "display_name": "Python 3",
      "name": "python3"
    },
    "language_info": {
      "name": "python"
    }
  },
  "nbformat": 4,
  "nbformat_minor": 0
}