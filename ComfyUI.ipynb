{
  "cells": [
    {
      "cell_type": "markdown",
      "metadata": {
        "id": "view-in-github",
        "colab_type": "text"
      },
      "source": [
        "<a href=\"https://colab.research.google.com/github/triscutie/ai_diffusion_webui_colab/blob/main/ComfyUI.ipynb\" target=\"_parent\"><img src=\"https://colab.research.google.com/assets/colab-badge.svg\" alt=\"Open In Colab\"/></a>"
      ]
    },
    {
      "cell_type": "markdown",
      "source": [
        "100% credit here -> -> -> https://github.com/comfyanonymous/ComfyUI"
      ],
      "metadata": {
        "id": "bZQ19GYf54dg"
      }
    },
    {
      "cell_type": "code",
      "execution_count": null,
      "metadata": {
        "id": "vFTEUuaHwQxA",
        "cellView": "form"
      },
      "outputs": [],
      "source": [
        "#@title # 1. **Download Requirements**\n",
        "!apt -q install liblz4-tool aria2\n",
        "!git clone https://github.com/comfyanonymous/ComfyUI\n",
        "!pip install torch torchvision torchaudio --extra-index-url https://download.pytorch.org/whl/cu117\n",
        "%cd ComfyUI\n",
        "!pip install -r requirements.txt"
      ]
    },
    {
      "cell_type": "code",
      "execution_count": null,
      "metadata": {
        "id": "Rr5-YdIwxSaf",
        "cellView": "form"
      },
      "outputs": [],
      "source": [
        "#@title # 2. **Download Models**\n",
        "Model = \"AbyssOrangeMix2_nsfw.safetensors\" #@param [\"None\", \"AbyssOrangeMix2_nsfw.safetensors\",\"BloodNightOrangeMix.ckpt\",\"anythingv3.ckpt\",\"v1-5-pruned-emaonly.ckpt\",\"v2-1_768-ema-pruned.safetensors\",\"f222.ckpt\",\"Kokoro.ckpt\",\"pastelmix-better-vae.safetensors\",\"anything-v4.5-pruned.safetensors\",\"AnyPastel-nsfw-fp16.safetensors\",\"OpenNiji.safetensors\",\"hitokomoru-v2.safetensors\"]\n",
        "\n",
        "model_dict = {\n",
        "    \"AbyssOrangeMix2_nsfw.safetensors\":\"https://huggingface.co/WarriorMama777/OrangeMixs/resolve/main/Models/AbyssOrangeMix2/AbyssOrangeMix2_nsfw.safetensors\",\n",
        "    \"BloodNightOrangeMix.ckptx\":\"https://huggingface.co/WarriorMama777/OrangeMixs/resolve/main/Models/BloodOrangeMix/BloodNightOrangeMix.ckpt\",\n",
        "    \"anythingv3.ckpt\":\"https://huggingface.co/NoCrypt/Anything-v3-0/resolve/main/anything.ckpt\",\n",
        "    \"v1-5-pruned-emaonly.ckpt\":\"https://huggingface.co/runwayml/stable-diffusion-v1-5/resolve/main/v1-5-pruned-emaonly.ckpt\",\n",
        "    \"v2-1_768-ema-pruned.safetensors\":\"https://huggingface.co/stabilityai/stable-diffusion-2-1/resolve/main/v2-1_768-ema-pruned.safetensors\",\n",
        "    \"f222.ckpt\":\"https://huggingface.co/acheong08/f222/resolve/main/f222.ckpt\",\n",
        "    \"Kokoro.ckpt\":\"https://huggingface.co/triscute/1il1il1illi1li1li1/resolve/main/Kokoro.ckpt\",\n",
        "    \"pastelmix-better-vae.safetensors\":\"https://huggingface.co/andite/pastel-mix/resolve/main/pastelmix-better-vae.safetensors\",\n",
        "    \"anything-v4.5-pruned.safetensors\":\"https://huggingface.co/andite/anything-v4.0/resolve/main/anything-v4.5-pruned.safetensors\",\n",
        "    \"AnyPastel-nsfw-fp16.safetensors\":\"https://huggingface.co/m4gnett/any-pastel/resolve/main/AnyPastel-nsfw-fp16.safetensors\",\n",
        "    \"OpenNiji.safetensors\":\"https://huggingface.co/Korakoe/OpenNiji/resolve/main/OpenNiji.safetensors\",\n",
        "    \"hitokomoru-v2.safetensors\":\"https://huggingface.co/Linaqruf/hitokomoru-diffusion-v2/resolve/main/hitokomoru-v2.safetensors\"\n",
        "}\n",
        "Custom_Model_Link = \"\" #@param {type:\"string\"}\n",
        "Custom_Model_Name = \"\" #@param {type:\"string\"}\n",
        "Custom_Model_Type = \"safetensors\" #@param [\"safetensors\",\"ckpt\"]\n",
        "cmf = Custom_Model_Name + \".\" + Custom_Model_Type\n",
        "\n",
        "\n",
        "if not Custom_Model_Link == \"\":\n",
        "  !aria2c --console-log-level=error --summary-interval=10 -c -x 16 -k 1M -s 16 -d /content/ComfyUI/models/checkpoints/ -o {cmf} {Custom_Model_Link}\n",
        "if not Model == \"None\" and not Model == \"v2-1_768-ema-pruned.safetensors\" and not Model == \"hitokomoru-v2.safetensors\":\n",
        "  !aria2c --console-log-level=error --summary-interval=10 -c -x 16 -k 1M -s 16 -d /content/ComfyUI/models/checkpoints/ -o {Model} {model_dict[Model]}\n",
        "\n",
        "# Linaqruf/hitokomoru-diffusion-v2\n",
        "if Model == \"hitokomoru-v2.safetensors\":\n",
        "  !aria2c --console-log-level=error --summary-interval=10 -c -x 16 -k 1M -s 16 -d /content/ComfyUI/models/checkpoints/ -o {Model} {model_dict[Model]}\n",
        "  !gdown https://huggingface.co/Linaqruf/hitokomoru-diffusion-v2/raw/main/hitokomoru-v2.yaml -O /content/ComfyUI/models/checkpoints/hitokomoru-v2.yaml\n",
        "\n",
        "# SD 2.1\n",
        "if Model == \"v2-1_768-ema-pruned.safetensors\":\n",
        "  !aria2c --console-log-level=error --summary-interval=10 -c -x 16 -k 1M -s 16 -d /content/ComfyUI/models/checkpoints/ -o {Model} {model_dict[Model]}\n",
        "  !gdown https://raw.githubusercontent.com/Stability-AI/stablediffusion/main/configs/stable-diffusion/v2-inference-v.yaml -O /content/ComfyUI/models/checkpoints/v2-1_768-ema-pruned.yaml"
      ]
    },
    {
      "cell_type": "code",
      "source": [
        "#@title # 2.1. **Download VAE**\n",
        "# quite honestly i dont know what other vaes are out there lmfao\n",
        "!gdown https://huggingface.co/hakurei/waifu-diffusion-v1-4/resolve/main/vae/kl-f8-anime2.ckpt -O /content/ComfyUI/models/vae/"
      ],
      "metadata": {
        "id": "JjEgjrjq43B0"
      },
      "execution_count": null,
      "outputs": []
    },
    {
      "cell_type": "code",
      "execution_count": null,
      "metadata": {
        "id": "LVaopqR6xwks",
        "cellView": "form"
      },
      "outputs": [],
      "source": [
        "#@title # 3. **File Explorer**\n",
        "#@markdown this is where you will see the output :3\n",
        "\n",
        "#reminding myself to make my own file explorer or something \n",
        "#(i doubt ill get to it but if i do this colab will have something unique :3)\n",
        "\n",
        "# stole this from comfys colab because i dont understand colab fully yet o>\n",
        "from google.colab import output\n",
        "output.serve_kernel_port_as_window(8000)\n",
        "get_ipython().system_raw('cd output && python3 -m http.server 8000 &') "
      ]
    },
    {
      "cell_type": "code",
      "execution_count": null,
      "metadata": {
        "id": "18SaFBCFxCA5",
        "cellView": "form"
      },
      "outputs": [],
      "source": [
        "#@title # 4. **Run ComfyUI**\n",
        "\n",
        "# stole this from comfys colab because i dont understand colab fully yet o>\n",
        "import threading\n",
        "import time\n",
        "import socket\n",
        "def iframe_thread(port):\n",
        "  while True:\n",
        "      time.sleep(0.5)\n",
        "      sock = socket.socket(socket.AF_INET, socket.SOCK_STREAM)\n",
        "      result = sock.connect_ex(('127.0.0.1', port))\n",
        "      if result == 0:\n",
        "        break\n",
        "      sock.close()\n",
        "  from google.colab import output\n",
        "  print(\"Link:\")\n",
        "  output.serve_kernel_port_as_window(port)\n",
        "\n",
        "threading.Thread(target=iframe_thread, daemon=True, args=(8188,)).start()\n",
        "\n",
        "!python main.py"
      ]
    },
    {
      "cell_type": "markdown",
      "source": [
        "# other utils below"
      ],
      "metadata": {
        "id": "jBPcgSbHGxgT"
      }
    },
    {
      "cell_type": "code",
      "source": [
        "#@markdown ## lora download\n",
        "link = \"\" # @param {type:\"string\"}\n",
        "!gdown {link} -O /content/ComfyUI/models/loras/"
      ],
      "metadata": {
        "cellView": "form",
        "id": "BqeBPo0vG7Is"
      },
      "execution_count": null,
      "outputs": []
    }
  ],
  "metadata": {
    "accelerator": "GPU",
    "colab": {
      "provenance": [],
      "authorship_tag": "ABX9TyMEFdnb5zs176b0KGu4t6Y0",
      "include_colab_link": true
    },
    "gpuClass": "standard",
    "kernelspec": {
      "display_name": "Python 3",
      "name": "python3"
    },
    "language_info": {
      "name": "python"
    }
  },
  "nbformat": 4,
  "nbformat_minor": 0
}